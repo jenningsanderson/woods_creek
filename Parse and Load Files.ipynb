{
 "cells": [
  {
   "cell_type": "code",
   "execution_count": 1,
   "id": "racial-coupon",
   "metadata": {
    "ExecuteTime": {
     "end_time": "2021-09-02T18:18:23.932836Z",
     "start_time": "2021-09-02T18:18:23.403925Z"
    }
   },
   "outputs": [],
   "source": [
    "import glob, json\n",
    "import pandas as pd\n",
    "from datetime import datetime, date\n",
    "import shapely, fiona\n",
    "from fiona import transform\n",
    "import geopandas as gpd"
   ]
  },
  {
   "cell_type": "code",
   "execution_count": 2,
   "id": "aquatic-simpson",
   "metadata": {
    "ExecuteTime": {
     "end_time": "2021-09-02T18:18:23.984523Z",
     "start_time": "2021-09-02T18:18:23.977058Z"
    }
   },
   "outputs": [],
   "source": [
    "def create_geodataframe(term='HeatPerimeter', fill_dates_forward=False):\n",
    "    days = []\n",
    "    for shp in [x for x in glob.glob('./data/**/*') if term in x and x.endswith('.shp')]:\n",
    "        d  = shp.split(\"/\")[3]\n",
    "        file_date = datetime(int(d[:4]),\n",
    "                             int(d[4:6]),\n",
    "                             int(d[6:8]),\n",
    "                             int(d[9:11]),\n",
    "                             int(d[11:13]))\n",
    "        raw  = fiona.open(shp)\n",
    "        raw_geom = next(iter(raw))\n",
    "\n",
    "        transformed_geom = transform.transform_geom(raw.crs['init'], 'EPSG:4326', raw_geom['geometry'])\n",
    "\n",
    "        raw_geom['properties']['datetime'] = file_date\n",
    "        raw_geom['properties']['timestamp'] = int(file_date.timestamp())\n",
    "        raw_geom['properties']['day'] = file_date.date()\n",
    "        raw_geom['properties']['geometry'] = shapely.geometry.shape(transformed_geom)\n",
    "\n",
    "        days.append(raw_geom['properties'])\n",
    "        df = pd.DataFrame(days).sort_values(by='timestamp').reset_index()\n",
    "        \n",
    "        if fill_dates_forward:\n",
    "            df.drop_duplicates(subset='day', keep='last').set_index('day')\n",
    "            r = pd.date_range(start=df.index.min(), end=df.index.max())\n",
    "            df = df.reindex(r).fillna(method='ffill')\n",
    "            df['day_ts'] = [int(d.timestamp()) for d in df.index]\n",
    "    return gpd.GeoDataFrame(df).set_crs(epsg=4326)"
   ]
  },
  {
   "cell_type": "code",
   "execution_count": 3,
   "id": "precious-alignment",
   "metadata": {
    "ExecuteTime": {
     "end_time": "2021-09-02T18:18:24.643163Z",
     "start_time": "2021-09-02T18:18:24.028057Z"
    }
   },
   "outputs": [],
   "source": [
    "gdf = create_geodataframe(term='HeatPerimeter', fill_dates_forward=False)\n",
    "_slice = gdf[gdf.timestamp!=1629172680]\n",
    "with open('docs/heat_perimeter.geojson','w') as outFile:\n",
    "    outFile.write( _slice[['geometry', 'timestamp']].to_json() )\n",
    "with open('docs/timestamps.jsonp','w') as outFile:\n",
    "    outFile.write(\"const TIMESTAMPS = {}\".format(sorted(list(_slice.timestamp))))"
   ]
  },
  {
   "cell_type": "code",
   "execution_count": 4,
   "id": "therapeutic-hawaiian",
   "metadata": {
    "ExecuteTime": {
     "end_time": "2021-09-02T18:18:25.608660Z",
     "start_time": "2021-09-02T18:18:25.601941Z"
    }
   },
   "outputs": [
    {
     "data": {
      "text/plain": [
       "(26, 25)"
      ]
     },
     "execution_count": 4,
     "metadata": {},
     "output_type": "execute_result"
    }
   ],
   "source": [
    "len(gdf), len(_slice)"
   ]
  },
  {
   "cell_type": "code",
   "execution_count": 219,
   "id": "advisory-plain",
   "metadata": {
    "ExecuteTime": {
     "end_time": "2021-09-02T00:08:32.179520Z",
     "start_time": "2021-09-02T00:08:32.104596Z"
    }
   },
   "outputs": [],
   "source": [
    "isolated_hot_spots = create_geodataframe(term='Isolated')\n",
    "with open('hot_spots.geojson','w') as outFile:\n",
    "    outFile.write( isolated_hot_spots[['geometry', 'timestamp', 'day_ts']].to_json() )"
   ]
  },
  {
   "cell_type": "code",
   "execution_count": null,
   "id": "affecting-horizon",
   "metadata": {},
   "outputs": [],
   "source": []
  }
 ],
 "metadata": {
  "hide_input": false,
  "kernelspec": {
   "display_name": "Python 3",
   "language": "python",
   "name": "python3"
  },
  "language_info": {
   "codemirror_mode": {
    "name": "ipython",
    "version": 3
   },
   "file_extension": ".py",
   "mimetype": "text/x-python",
   "name": "python",
   "nbconvert_exporter": "python",
   "pygments_lexer": "ipython3",
   "version": "3.9.6"
  },
  "varInspector": {
   "cols": {
    "lenName": 16,
    "lenType": 16,
    "lenVar": 40
   },
   "kernels_config": {
    "python": {
     "delete_cmd_postfix": "",
     "delete_cmd_prefix": "del ",
     "library": "var_list.py",
     "varRefreshCmd": "print(var_dic_list())"
    },
    "r": {
     "delete_cmd_postfix": ") ",
     "delete_cmd_prefix": "rm(",
     "library": "var_list.r",
     "varRefreshCmd": "cat(var_dic_list()) "
    }
   },
   "types_to_exclude": [
    "module",
    "function",
    "builtin_function_or_method",
    "instance",
    "_Feature"
   ],
   "window_display": false
  }
 },
 "nbformat": 4,
 "nbformat_minor": 5
}
